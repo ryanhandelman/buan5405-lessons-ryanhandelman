{
  "nbformat": 4,
  "nbformat_minor": 0,
  "metadata": {
    "colab": {
      "name": "Quiz5.ipynb",
      "provenance": [],
      "authorship_tag": "ABX9TyM6v97cR6i3qCFVG9RPpFp/",
      "include_colab_link": true
    },
    "kernelspec": {
      "name": "python3",
      "display_name": "Python 3"
    }
  },
  "cells": [
    {
      "cell_type": "markdown",
      "metadata": {
        "id": "view-in-github",
        "colab_type": "text"
      },
      "source": [
        "<a href=\"https://colab.research.google.com/github/ryanhandelman/buan5405-lessons-ryanhandelman/blob/master/Quiz5.ipynb\" target=\"_parent\"><img src=\"https://colab.research.google.com/assets/colab-badge.svg\" alt=\"Open In Colab\"/></a>"
      ]
    },
    {
      "cell_type": "code",
      "metadata": {
        "id": "vG0y5YMKbHdK",
        "colab_type": "code",
        "colab": {
          "base_uri": "https://localhost:8080/",
          "height": 136
        },
        "outputId": "fc18838e-0c53-4f64-bc61-c956adb2647b"
      },
      "source": [
        "# return a list of tuples where each tuple is 3 numbers, \n",
        "# the first number is less than n and the next two numbers increment by 6.\n",
        "def sexy_prime_triplets(n):\n",
        "  sexy_list = [] \n",
        "  for x in range(2,n): \n",
        "    if prime(x): \n",
        "      if prime(x+6): \n",
        "        if prime(x+12): \n",
        "          sexy_list.append((x,x+6,x+12))\n",
        "  return sexy_list \n",
        "# determines if n is prime \n",
        "def prime(n):\n",
        "  for x in range(2,n): \n",
        "    if n % x == 0: \n",
        "      return False \n",
        "  return True \n",
        "sexy_prime_triplets(50)\n",
        "\n"
      ],
      "execution_count": 12,
      "outputs": [
        {
          "output_type": "execute_result",
          "data": {
            "text/plain": [
              "[(5, 11, 17),\n",
              " (7, 13, 19),\n",
              " (11, 17, 23),\n",
              " (17, 23, 29),\n",
              " (31, 37, 43),\n",
              " (41, 47, 53),\n",
              " (47, 53, 59)]"
            ]
          },
          "metadata": {
            "tags": []
          },
          "execution_count": 12
        }
      ]
    },
    {
      "cell_type": "code",
      "metadata": {
        "id": "vTB9ZWs5ool4",
        "colab_type": "code",
        "colab": {
          "base_uri": "https://localhost:8080/",
          "height": 34
        },
        "outputId": "dc308465-0cac-469b-8c46-393c65e1a9da"
      },
      "source": [
        "\n",
        "\n",
        "def text2number(text): \n",
        "  list_of_words = text.split(\" \")\n",
        "  list_of_numbers = []\n",
        "  for x in list_of_words: \n",
        "    list_of_numbers.append(number_map[x])\n",
        "  list_of_chunks = []\n",
        " \n",
        "  chunk = []\n",
        "  for x in list_of_numbers:\n",
        "    chunk.append(x)\n",
        "    if x == 1000 or x == 1000000 or x == 1000000000: \n",
        "      print(5)\n",
        "      list_of_chunks.append(chunk)\n",
        "      chunk= []\n",
        "  list_of_chunks.append(chunk)\n",
        "  total = 0\n",
        "  chunk_mag = 0\n",
        " \n",
        "  for chunk in list_of_chunks: \n",
        "    chunk_mag = chunk[0]\n",
        "    chunk.pop(0)\n",
        "    for x in chunk:\n",
        "        if x > chunk_mag: \n",
        "          chunk_mag *= x\n",
        "        else: \n",
        "          chunk_mag += x\n",
        "    total += chunk_mag \n",
        "    chunk_mag = 0 \n",
        "  return total \n",
        "\n",
        "       \n",
        "\n",
        "number_map = {\n",
        "  'billion': 1000000000,\n",
        "  'million': 1000000,\n",
        "  'thousand': 1000,\n",
        "  'hundred': 100,\n",
        "  'ninety': 90,\n",
        "  'eighty': 80,\n",
        "  'seventy': 70,\n",
        "  'sixty': 60,\n",
        "  'fifty': 50,\n",
        "  'forty': 40,\n",
        "  'thirty': 30,\n",
        "  'twenty': 20,\n",
        "  'nineteen': 19,\n",
        "  'eighteen': 18,\n",
        "  'seventeen': 17,\n",
        "  'sixteen': 16,\n",
        "  'fifteen': 15,\n",
        "  'fourteen': 14,\n",
        "  'thirteen': 13,\n",
        "  'twelve': 12,\n",
        "  'eleven': 11,\n",
        "  'ten': 10,\n",
        "  'nine': 9,\n",
        "  'eight': 8,\n",
        "  'seven': 7,\n",
        "  'six': 6,\n",
        "  'five': 5,\n",
        "  'four': 4,\n",
        "  'three': 3,\n",
        "  'two': 2,\n",
        "  'one': 1,\n",
        "  'zero': 0}\n",
        "text2number(\"one hundred thirty four\")\n"
      ],
      "execution_count": 30,
      "outputs": [
        {
          "output_type": "execute_result",
          "data": {
            "text/plain": [
              "134"
            ]
          },
          "metadata": {
            "tags": []
          },
          "execution_count": 30
        }
      ]
    },
    {
      "cell_type": "markdown",
      "metadata": {
        "id": "YyDAeuvRSnCd",
        "colab_type": "text"
      },
      "source": [
        "HONOR PLEDGE: RH \n"
      ]
    },
    {
      "cell_type": "code",
      "metadata": {
        "id": "MfybRUD2RpGa",
        "colab_type": "code",
        "colab": {
          "base_uri": "https://localhost:8080/",
          "height": 326
        },
        "outputId": "9e1e9ab1-091a-4172-dae8-45cee06d887a"
      },
      "source": [
        "# @title Sync to GitHub\n",
        "github_email = \"ryan.handelman@student.fairfield.edu\" #@param {type:\"string\"}\n",
        "github_username = \"ryanhandelman\" #@param {type:\"string\"}\n",
        "commit_comment = \"Completed Quiz 5\"\n",
        " \n",
        "from google.colab import drive\n",
        " \n",
        "if github_email and github_username and commit_comment :  \n",
        "  drive.mount('/content/drive')\n",
        " \n",
        "  repo_name = \"buan5405-lessons-\"+github_username\n",
        "  repo_dir = \"/content/drive/My Drive/Colab Notebooks/\"+repo_name\n",
        "  %cd {repo_dir}\n",
        " \n",
        "  !git config --global user.email {github_email}\n",
        "  !git config --global user.name {github_username}\n",
        "  !git add Quiz5.ipynb\n",
        "  !git commit -m \"{commit_comment}\"\n",
        "  !git push\n",
        "else:\n",
        "  print(\"Please fill out all fields\")"
      ],
      "execution_count": 31,
      "outputs": [
        {
          "output_type": "stream",
          "text": [
            "Go to this URL in a browser: https://accounts.google.com/o/oauth2/auth?client_id=947318989803-6bn6qk8qdgf4n4g3pfee6491hc0brc4i.apps.googleusercontent.com&redirect_uri=urn%3aietf%3awg%3aoauth%3a2.0%3aoob&scope=email%20https%3a%2f%2fwww.googleapis.com%2fauth%2fdocs.test%20https%3a%2f%2fwww.googleapis.com%2fauth%2fdrive%20https%3a%2f%2fwww.googleapis.com%2fauth%2fdrive.photos.readonly%20https%3a%2f%2fwww.googleapis.com%2fauth%2fpeopleapi.readonly&response_type=code\n",
            "\n",
            "Enter your authorization code:\n",
            "··········\n",
            "Mounted at /content/drive\n",
            "/content/drive/My Drive/Colab Notebooks/buan5405-lessons-ryanhandelman\n",
            "[master 35dc704] Completed Quiz 5\n",
            " 1 file changed, 1 insertion(+)\n",
            " create mode 100644 Quiz5.ipynb\n",
            "Counting objects: 3, done.\n",
            "Delta compression using up to 2 threads.\n",
            "Compressing objects: 100% (3/3), done.\n",
            "Writing objects: 100% (3/3), 1.88 KiB | 641.00 KiB/s, done.\n",
            "Total 3 (delta 1), reused 0 (delta 0)\n",
            "remote: Resolving deltas: 100% (1/1), completed with 1 local object.\u001b[K\n",
            "To https://github.com/Fairfield-BUAN-5405-Summer-2020/buan5405-lessons-ryanhandelman.git\n",
            "   0772bd3..35dc704  master -> master\n"
          ],
          "name": "stdout"
        }
      ]
    }
  ]
}